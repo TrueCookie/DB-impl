{
 "cells": [
  {
   "cell_type": "code",
   "execution_count": 2,
   "metadata": {},
   "outputs": [],
   "source": [
    "import shelve as sh\n",
    "from datetime import date"
   ]
  },
  {
   "cell_type": "code",
   "execution_count": 3,
   "metadata": {},
   "outputs": [],
   "source": [
    "#hard htuple\n",
    "id = 0\n",
    "name = \"Tom\"\n",
    "group = 10\n",
    "bdate = date(2020, 1,4)"
   ]
  },
  {
   "cell_type": "code",
   "execution_count": 4,
   "metadata": {},
   "outputs": [],
   "source": [
    "FILENAME = 'data/page.bin'"
   ]
  },
  {
   "cell_type": "code",
   "execution_count": 35,
   "metadata": {},
   "outputs": [],
   "source": [
    "class htuple:\n",
    "    def __init__(self, id, name, group, bdate):\n",
    "        self.id = id\n",
    "        self.name = name\n",
    "        self.group = group\n",
    "        self.bdate = bdate\n",
    "\n",
    "    def __repr__():\n",
    "        return f\"id: {id} \\nname: {name}\" \n",
    "    \n",
    "    def __str__():\n",
    "        return f\"id: {id} \\nname: {name}\" "
   ]
  },
  {
   "cell_type": "code",
   "execution_count": 19,
   "metadata": {},
   "outputs": [
    {
     "name": "stdout",
     "output_type": "stream",
     "text": [
      "htuple created\n",
      "htuple created\n"
     ]
    }
   ],
   "source": [
    "t1 = htuple(id, name, group, bdate)\n",
    "t2 = htuple(2, \"Ioann\", 11, date(2020, 1, 2))"
   ]
  },
  {
   "cell_type": "code",
   "execution_count": 29,
   "metadata": {},
   "outputs": [],
   "source": [
    "class fsystem:\n",
    "    def write_data(htuple: htuple):\n",
    "        with sh.open(FILENAME, 'w') as file:\n",
    "            file[str(htuple.id)] = htuple\n",
    "\n",
    "    def read_data(id: int):\n",
    "        id = str(id)\n",
    "        with sh.open(FILENAME, 'r') as file:\n",
    "            if id in file:\n",
    "                return file[id]\n",
    "            \n",
    "    def read_data_all():\n",
    "        htuples = []\n",
    "        with sh.open(FILENAME, 'r') as file:\n",
    "            data = file.items()\n",
    "            for tuple in data:\n",
    "                htuples.append(tuple[1])\n",
    "            \n",
    "        return htuples\n",
    "        "
   ]
  },
  {
   "cell_type": "code",
   "execution_count": 14,
   "metadata": {},
   "outputs": [],
   "source": [
    "htuples = []\n",
    "with sh.open(FILENAME, 'r') as file:\n",
    "    data = file.items()\n",
    "    for tuple in data:\n",
    "        htuples.append(tuple[1])"
   ]
  },
  {
   "cell_type": "code",
   "execution_count": 9,
   "metadata": {},
   "outputs": [
    {
     "data": {
      "text/plain": [
       "1"
      ]
     },
     "execution_count": 9,
     "metadata": {},
     "output_type": "execute_result"
    }
   ],
   "source": [
    "len(htuples)"
   ]
  },
  {
   "cell_type": "code",
   "execution_count": 12,
   "metadata": {},
   "outputs": [],
   "source": [
    "class dml:\n",
    "    def insert(htuple: htuple):\n",
    "        fsystem.write_data(htuple)\n",
    "\n",
    "    def select(id: int):\n",
    "        return fsystem.read_data(id)\n",
    "\n",
    "    def select_all():\n",
    "        return fsystem.read_data_all()"
   ]
  },
  {
   "cell_type": "code",
   "execution_count": 30,
   "metadata": {},
   "outputs": [],
   "source": [
    "dml.insert(t1)\n",
    "dml.insert(t2)"
   ]
  },
  {
   "cell_type": "code",
   "execution_count": 32,
   "metadata": {},
   "outputs": [
    {
     "name": "stdout",
     "output_type": "stream",
     "text": [
      "select: <__main__.htuple object at 0x0000022AFFFB8FD0>\n",
      "select_all: [<__main__.htuple object at 0x0000022AFFECA400>, <__main__.htuple object at 0x0000022AFFECAE80>]\n"
     ]
    }
   ],
   "source": [
    "print(\"select:\", dml.select(\"2\"))\n",
    "print(\"select_all:\", dml.select_all())"
   ]
  }
 ],
 "metadata": {
  "kernelspec": {
   "display_name": "Python 3.9.7 ('base')",
   "language": "python",
   "name": "python3"
  },
  "language_info": {
   "codemirror_mode": {
    "name": "ipython",
    "version": 3
   },
   "file_extension": ".py",
   "mimetype": "text/x-python",
   "name": "python",
   "nbconvert_exporter": "python",
   "pygments_lexer": "ipython3",
   "version": "3.9.7"
  },
  "orig_nbformat": 4,
  "vscode": {
   "interpreter": {
    "hash": "ad2bdc8ecc057115af97d19610ffacc2b4e99fae6737bb82f5d7fb13d2f2c186"
   }
  }
 },
 "nbformat": 4,
 "nbformat_minor": 2
}
